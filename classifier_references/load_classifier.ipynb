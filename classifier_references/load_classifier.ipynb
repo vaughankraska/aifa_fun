{
 "cells": [
  {
   "cell_type": "code",
   "execution_count": null,
   "metadata": {},
   "outputs": [],
   "source": [
    "import spacy\n",
    "\n",
    "# Load the saved pipeline\n",
    "output_dir = \"./textcat_model\"\n",
    "nlp = spacy.load(output_dir)\n",
    "\n",
    "# Use the loaded model to make predictions\n",
    "texts = [\"This is a test text to classify\", \"Another example text\"]\n",
    "for text in texts:\n",
    "    doc = nlp(text)\n",
    "    print(text, doc.cats)\n"
   ]
  }
 ],
 "metadata": {
  "language_info": {
   "name": "python"
  }
 },
 "nbformat": 4,
 "nbformat_minor": 2
}
