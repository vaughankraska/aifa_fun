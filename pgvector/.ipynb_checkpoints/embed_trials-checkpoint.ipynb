{
 "cells": [
  {
   "cell_type": "code",
   "execution_count": 50,
   "id": "4f0438ce-f767-495b-9f52-75a7fa46623f",
   "metadata": {},
   "outputs": [],
   "source": [
    "from langchain.document_loaders import PyMuPDFLoader\n",
    "from langchain.text_splitter import RecursiveCharacterTextSplitter\n",
    "from langchain_community.embeddings import OllamaEmbeddings\n",
    "from langchain_postgres import PGVector\n",
    "from langchain_postgres.vectorstores import PGVector\n",
    "from langchain_community.embeddings import OllamaEmbeddings\n",
    "import pandas as pd\n",
    "import time\n",
    "import os"
   ]
  },
  {
   "cell_type": "code",
   "execution_count": 32,
   "id": "dfb0fe7d-8e30-4547-a8bd-49ee363eaab8",
   "metadata": {},
   "outputs": [],
   "source": [
    "directory = 'pdfs/'\n",
    "pdfs = []\n",
    "for filename in os.listdir(directory):\n",
    "    if filename.endswith('.pdf'):\n",
    "        filepath = os.path.join(directory, filename)\n",
    "        pdfs.append(filepath)"
   ]
  },
  {
   "cell_type": "code",
   "execution_count": 34,
   "id": "d95a43a0-c76b-485f-874d-273fd542e6a4",
   "metadata": {},
   "outputs": [
    {
     "data": {
      "text/plain": [
       "{'source': 'pdfs/1-s2.0-S0022437522001335-main.pdf',\n",
       " 'file_path': 'pdfs/1-s2.0-S0022437522001335-main.pdf',\n",
       " 'page': 0,\n",
       " 'total_pages': 6,\n",
       " 'format': 'PDF 1.7',\n",
       " 'title': 'A pilot study evaluating the effectiveness of preventing railway suicides by mid-track fencing, which restrict easy access to high-speed train tracks',\n",
       " 'author': 'Johan Fredin-Knutzén',\n",
       " 'subject': 'Journal of Safety Research, 83 (2022) 232-237. doi:10.1016/j.jsr.2022.08.019',\n",
       " 'keywords': '',\n",
       " 'creator': 'Elsevier',\n",
       " 'producer': 'Acrobat Distiller 8.0.0 (Windows)',\n",
       " 'creationDate': \"D:20221130162908+05'30'\",\n",
       " 'modDate': \"D:20221130163005+05'30'\",\n",
       " 'trapped': ''}"
      ]
     },
     "execution_count": 34,
     "metadata": {},
     "output_type": "execute_result"
    }
   ],
   "source": [
    "loader = PyMuPDFLoader('pdfs/1-s2.0-S0022437522001335-main.pdf')\n",
    "text_splitter = RecursiveCharacterTextSplitter(chunk_size=1000, chunk_overlap=80)\n",
    "documents = loader.load()\n",
    "documents[0].metadata"
   ]
  },
  {
   "cell_type": "code",
   "execution_count": 39,
   "id": "b201aef5-fbb4-4e63-8ef9-d122c364386f",
   "metadata": {},
   "outputs": [
    {
     "name": "stdout",
     "output_type": "stream",
     "text": [
      "took 1.8941690921783447 to chunk 52 pdfs\n"
     ]
    }
   ],
   "source": [
    "start_time = time.time()\n",
    "stats = []\n",
    "for pdf in pdfs:\n",
    "    loader = PyMuPDFLoader(pdf)\n",
    "    text_splitter = RecursiveCharacterTextSplitter(chunk_size=1000, chunk_overlap=80)\n",
    "    documents = loader.load()\n",
    "    chunks = text_splitter.split_documents(documents)\n",
    "    word_count = 0\n",
    "    for chunk in chunks:\n",
    "        word_count += len(chunk.page_content.split(' '))\n",
    "    obj = {\n",
    "        'file': pdf,\n",
    "        'title': documents[0].metadata['title'],\n",
    "        'words': word_count,\n",
    "        'chunks': len(chunks),\n",
    "        'pages': len(documents),\n",
    "        'author': documents[0].metadata['author'],\n",
    "        'subject': documents[0].metadata['subject'],\n",
    "        'keywords': documents[0].metadata['keywords'],\n",
    "        'producer': documents[0].metadata['producer'],\n",
    "        'creator': documents[0].metadata['creator'],\n",
    "        'created': documents[0].metadata['creationDate'],\n",
    "    }\n",
    "    stats.append(obj)\n",
    "end_time = time.time()\n",
    "print(f'took {(end_time-start_time)} to chunk {len(stats)} pdfs')"
   ]
  },
  {
   "cell_type": "code",
   "execution_count": 40,
   "id": "7d8ae6de-b906-4414-b975-e9bbe5e0050d",
   "metadata": {},
   "outputs": [
    {
     "data": {
      "text/html": [
       "<div>\n",
       "<style scoped>\n",
       "    .dataframe tbody tr th:only-of-type {\n",
       "        vertical-align: middle;\n",
       "    }\n",
       "\n",
       "    .dataframe tbody tr th {\n",
       "        vertical-align: top;\n",
       "    }\n",
       "\n",
       "    .dataframe thead th {\n",
       "        text-align: right;\n",
       "    }\n",
       "</style>\n",
       "<table border=\"1\" class=\"dataframe\">\n",
       "  <thead>\n",
       "    <tr style=\"text-align: right;\">\n",
       "      <th></th>\n",
       "      <th>file</th>\n",
       "      <th>title</th>\n",
       "      <th>words</th>\n",
       "      <th>chunks</th>\n",
       "      <th>pages</th>\n",
       "      <th>author</th>\n",
       "      <th>subject</th>\n",
       "      <th>keywords</th>\n",
       "      <th>producer</th>\n",
       "      <th>creator</th>\n",
       "      <th>created</th>\n",
       "    </tr>\n",
       "  </thead>\n",
       "  <tbody>\n",
       "    <tr>\n",
       "      <th>0</th>\n",
       "      <td>pdfs/fpsyt-09-00116.pdf</td>\n",
       "      <td>Decision-Making in Suicidal Behavior: The Prot...</td>\n",
       "      <td>8405</td>\n",
       "      <td>66</td>\n",
       "      <td>9</td>\n",
       "      <td>Gergö Hadlaczky</td>\n",
       "      <td>Background: Loss aversion is a central and wel...</td>\n",
       "      <td>loss aversion, decision-making, suicide, attem...</td>\n",
       "      <td>Adobe PDF Library 10.0.1</td>\n",
       "      <td>Adobe InDesign CS6 (Windows)</td>\n",
       "      <td>D:20180331094507+05'30'</td>\n",
       "    </tr>\n",
       "    <tr>\n",
       "      <th>1</th>\n",
       "      <td>pdfs/1-s2.0-S0022437523001639-main.pdf</td>\n",
       "      <td>A pilot study evaluating the preventive effect...</td>\n",
       "      <td>6206</td>\n",
       "      <td>47</td>\n",
       "      <td>7</td>\n",
       "      <td>Johan Fredin-Knutzén</td>\n",
       "      <td>Journal of Safety Research, 88 (2024) 78-84. d...</td>\n",
       "      <td>Suicide,Accident,Railway,Station,Platform-end ...</td>\n",
       "      <td>Acrobat Distiller 8.1.0 (Windows)</td>\n",
       "      <td>Elsevier</td>\n",
       "      <td>D:20240312122711Z</td>\n",
       "    </tr>\n",
       "    <tr>\n",
       "      <th>2</th>\n",
       "      <td>pdfs/149.pdf</td>\n",
       "      <td></td>\n",
       "      <td>5226</td>\n",
       "      <td>45</td>\n",
       "      <td>7</td>\n",
       "      <td></td>\n",
       "      <td></td>\n",
       "      <td></td>\n",
       "      <td>Apogee Create Series3 v1.0</td>\n",
       "      <td>3B2 Total Publishing System 7.51n/W</td>\n",
       "      <td>D:20051222144342</td>\n",
       "    </tr>\n",
       "    <tr>\n",
       "      <th>3</th>\n",
       "      <td>pdfs/10.1177_14034948211000836.pdf</td>\n",
       "      <td></td>\n",
       "      <td>4006</td>\n",
       "      <td>31</td>\n",
       "      <td>6</td>\n",
       "      <td></td>\n",
       "      <td></td>\n",
       "      <td></td>\n",
       "      <td>Adobe PDF Library 9.9</td>\n",
       "      <td>Adobe InDesign CS5.5 (7.5)</td>\n",
       "      <td>D:20220526144906+05'30'</td>\n",
       "    </tr>\n",
       "    <tr>\n",
       "      <th>4</th>\n",
       "      <td>pdfs/ten.tea.2009.0426.pdf</td>\n",
       "      <td>untitled</td>\n",
       "      <td>7240</td>\n",
       "      <td>61</td>\n",
       "      <td>10</td>\n",
       "      <td></td>\n",
       "      <td></td>\n",
       "      <td></td>\n",
       "      <td>Acrobat Distiller 6.0 (Windows)</td>\n",
       "      <td>3B2 Total Publishing System 7.51o/W</td>\n",
       "      <td>D:20100125114559+05'30'</td>\n",
       "    </tr>\n",
       "  </tbody>\n",
       "</table>\n",
       "</div>"
      ],
      "text/plain": [
       "                                     file  \\\n",
       "0                 pdfs/fpsyt-09-00116.pdf   \n",
       "1  pdfs/1-s2.0-S0022437523001639-main.pdf   \n",
       "2                            pdfs/149.pdf   \n",
       "3      pdfs/10.1177_14034948211000836.pdf   \n",
       "4              pdfs/ten.tea.2009.0426.pdf   \n",
       "\n",
       "                                               title  words  chunks  pages  \\\n",
       "0  Decision-Making in Suicidal Behavior: The Prot...   8405      66      9   \n",
       "1  A pilot study evaluating the preventive effect...   6206      47      7   \n",
       "2                                                      5226      45      7   \n",
       "3                                                      4006      31      6   \n",
       "4                                           untitled   7240      61     10   \n",
       "\n",
       "                 author                                            subject  \\\n",
       "0       Gergö Hadlaczky  Background: Loss aversion is a central and wel...   \n",
       "1  Johan Fredin-Knutzén  Journal of Safety Research, 88 (2024) 78-84. d...   \n",
       "2                                                                            \n",
       "3                                                                            \n",
       "4                                                                            \n",
       "\n",
       "                                            keywords  \\\n",
       "0  loss aversion, decision-making, suicide, attem...   \n",
       "1  Suicide,Accident,Railway,Station,Platform-end ...   \n",
       "2                                                      \n",
       "3                                                      \n",
       "4                                                      \n",
       "\n",
       "                            producer                              creator  \\\n",
       "0           Adobe PDF Library 10.0.1         Adobe InDesign CS6 (Windows)   \n",
       "1  Acrobat Distiller 8.1.0 (Windows)                             Elsevier   \n",
       "2         Apogee Create Series3 v1.0  3B2 Total Publishing System 7.51n/W   \n",
       "3              Adobe PDF Library 9.9           Adobe InDesign CS5.5 (7.5)   \n",
       "4    Acrobat Distiller 6.0 (Windows)  3B2 Total Publishing System 7.51o/W   \n",
       "\n",
       "                   created  \n",
       "0  D:20180331094507+05'30'  \n",
       "1        D:20240312122711Z  \n",
       "2         D:20051222144342  \n",
       "3  D:20220526144906+05'30'  \n",
       "4  D:20100125114559+05'30'  "
      ]
     },
     "execution_count": 40,
     "metadata": {},
     "output_type": "execute_result"
    }
   ],
   "source": [
    "stats = pd.DataFrame(stats)\n",
    "stats.head()"
   ]
  },
  {
   "cell_type": "markdown",
   "id": "1ade35a3-8dc2-4cb7-a6de-792fdae4f3ba",
   "metadata": {},
   "source": [
    "### 516 pages in total\n",
    "### 2746 chunks in total\n",
    "### 317485 words in total\n",
    "### 34M in pdf data\n",
    "print(f'{sum(stats[\"pages\"])} pages in total')\n",
    "print(f'{sum(stats[\"chunks\"])} chunks in total')\n",
    "print(f'{sum(stats[\"words\"])} words in total')\n",
    "print('34M in pdf data')"
   ]
  },
  {
   "cell_type": "code",
   "execution_count": 45,
   "id": "4c91c321-0487-40ac-bd3d-a963433457c9",
   "metadata": {},
   "outputs": [],
   "source": [
    "models = [\n",
    "    'flan-t5-xl:latest',\n",
    "    'gte-base:latest',\n",
    "    'command-r:v0.1',\n",
    "    'qwen2:0.5b',\n",
    "    'phi3:mini-128k',\n",
    "    'mxbai-embed-large:latest',\n",
    "    'all-minilm:latest',\n",
    "    'nomic-embed-text:latest',\n",
    "    'gemma:2b-instruct-v1.1-q2_K',\n",
    "    'tinyllama:latest',\n",
    "    'llama3:latest'\n",
    "]"
   ]
  },
  {
   "cell_type": "code",
   "execution_count": 49,
   "id": "97e768be-8451-44e7-8b95-26216c6d3fcd",
   "metadata": {},
   "outputs": [
    {
     "data": {
      "text/plain": [
       "15"
      ]
     },
     "execution_count": 49,
     "metadata": {},
     "output_type": "execute_result"
    }
   ],
   "source": [
    "N_TEST_CHUNKS = 10\n",
    "loader = PyMuPDFLoader('pdfs/1-s2.0-S0022437522001335-main.pdf')\n",
    "text_splitter = RecursiveCharacterTextSplitter(chunk_size=1000, chunk_overlap=80)\n",
    "test_doc = documents = loader.load()\n",
    "test_chunks = text_splitter.split_documents(test_doc)[:N_TEST_CHUNKS]\n",
    "\n",
    "embed_stats = []\n",
    "start_time = time.time()\n",
    "for model in models:\n",
    "    embedding = OllamaEmbeddings(model='mxbai-embed-large:latest')\n",
    "    temp = embedding.embed_query('This is a quick text')\n",
    "\n",
    "end_time = time.time()\n",
    "print(f'Total Processing took {end_time-start_time} seconds at {N_TEST_CHUNKS} per model.')"
   ]
  },
  {
   "cell_type": "code",
   "execution_count": 51,
   "id": "73048083-8182-4fc5-a3e4-95fbddaa1fcd",
   "metadata": {},
   "outputs": [
    {
     "data": {
      "text/plain": [
       "1024"
      ]
     },
     "execution_count": 51,
     "metadata": {},
     "output_type": "execute_result"
    }
   ],
   "source": [
    "embedding = OllamaEmbeddings(model='mxbai-embed-large:latest') # optionally self host ollama and use http://localhost:11434\n",
    "temp = embedding.embed_query('This is a quick text')\n",
    "len(temp)"
   ]
  },
  {
   "cell_type": "code",
   "execution_count": null,
   "id": "2cdd3002-8d4a-4c4f-bfd3-6e84c6073c04",
   "metadata": {},
   "outputs": [],
   "source": []
  }
 ],
 "metadata": {
  "kernelspec": {
   "display_name": "Python 3 (ipykernel)",
   "language": "python",
   "name": "python3"
  },
  "language_info": {
   "codemirror_mode": {
    "name": "ipython",
    "version": 3
   },
   "file_extension": ".py",
   "mimetype": "text/x-python",
   "name": "python",
   "nbconvert_exporter": "python",
   "pygments_lexer": "ipython3",
   "version": "3.11.5"
  }
 },
 "nbformat": 4,
 "nbformat_minor": 5
}
