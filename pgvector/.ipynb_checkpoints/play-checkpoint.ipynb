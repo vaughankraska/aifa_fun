{
 "cells": [
  {
   "cell_type": "code",
   "execution_count": 17,
   "id": "3e1d87fe-7182-44ab-ad14-1115d2e2e289",
   "metadata": {},
   "outputs": [],
   "source": [
    "from langchain.document_loaders import TextLoader\n",
    "from langchain.text_splitter import RecursiveCharacterTextSplitter\n",
    "from langchain_community.embeddings import OllamaEmbeddings\n",
    "from langchain.vectorstores import PGVector\n",
    "import time"
   ]
  },
  {
   "cell_type": "code",
   "execution_count": 18,
   "id": "ee129d87-634e-43b5-91f6-e7423e87215c",
   "metadata": {},
   "outputs": [
    {
     "name": "stdout",
     "output_type": "stream",
     "text": [
      "1\n"
     ]
    }
   ],
   "source": [
    "loader = TextLoader('moby_dick.txt')\n",
    "documents = loader.load()\n",
    "print(len(documents))"
   ]
  },
  {
   "cell_type": "code",
   "execution_count": 34,
   "id": "2c240f0c-82f9-457b-b19b-8617d9531d4f",
   "metadata": {},
   "outputs": [
    {
     "data": {
      "text/plain": [
       "1238223"
      ]
     },
     "execution_count": 34,
     "metadata": {},
     "output_type": "execute_result"
    }
   ],
   "source": [
    "len(documents[0].page_content)"
   ]
  },
  {
   "cell_type": "code",
   "execution_count": 25,
   "id": "2dd086ae-edf4-4487-9ae5-d50c71e01cfe",
   "metadata": {},
   "outputs": [
    {
     "name": "stdout",
     "output_type": "stream",
     "text": [
      "1770 chunks\n"
     ]
    },
    {
     "data": {
      "text/plain": [
       "Document(page_content='The Project Gutenberg eBook of Moby Dick; Or, The Whale\\n    \\nThis ebook is for the use of anyone anywhere in the United States and\\nmost other parts of the world at no cost and with almost no restrictions\\nwhatsoever. You may copy it, give it away or re-use it under the terms\\nof the Project Gutenberg License included with this ebook or online\\nat www.gutenberg.org. If you are not located in the United States,\\nyou will have to check the laws of the country where you are located\\nbefore using this eBook.\\n\\nTitle: Moby Dick; Or, The Whale\\n\\nAuthor: Herman Melville\\n\\nRelease date: July 1, 2001 [eBook #2701]\\n                Most recently updated: August 18, 2021\\n\\nLanguage: English\\n\\nCredits: Daniel Lazarus, Jonesey, and David Widger\\n\\n\\n*** START OF THE PROJECT GUTENBERG EBOOK MOBY DICK; OR, THE WHALE ***\\n\\n\\n\\n\\nMOBY-DICK;\\n\\nor, THE WHALE.\\n\\nBy Herman Melville\\n\\n\\n\\nCONTENTS\\n\\nETYMOLOGY.\\n\\nEXTRACTS (Supplied by a Sub-Sub-Librarian).\\n\\nCHAPTER 1. Loomings.\\n\\nCHAPTER 2. The Carpet-Bag.\\n\\nCHAPTER 3. The Spouter-Inn.', metadata={'source': 'moby_dick.txt'})"
      ]
     },
     "execution_count": 25,
     "metadata": {},
     "output_type": "execute_result"
    }
   ],
   "source": [
    "chunk_size = 1000\n",
    "text_splitter = RecursiveCharacterTextSplitter(chunk_size=chunk_size, chunk_overlap=80)\n",
    "texts = text_splitter.split_documents(documents)\n",
    "print(f'{len(texts)} chunks')\n",
    "texts[0]"
   ]
  },
  {
   "cell_type": "code",
   "execution_count": 26,
   "id": "9c402ddf-a7d8-4034-ab25-baf8dab49d6b",
   "metadata": {},
   "outputs": [
    {
     "data": {
      "text/plain": [
       "4096"
      ]
     },
     "execution_count": 26,
     "metadata": {},
     "output_type": "execute_result"
    }
   ],
   "source": [
    "embedding = OllamaEmbeddings(model='llama3')\n",
    "temp = embedding.embed_query('This is a quick text')\n",
    "len(temp)"
   ]
  },
  {
   "cell_type": "code",
   "execution_count": 28,
   "id": "c688d943-172e-47c4-9e9e-7d175f1b1e40",
   "metadata": {},
   "outputs": [
    {
     "name": "stdout",
     "output_type": "stream",
     "text": [
      "Took 23.420192003250122 seconds to process 15 of chunk_size 1000 chars.\n",
      "Therefore would take ca. 46.05971093972524 minutes to finish all\n"
     ]
    }
   ],
   "source": [
    "N_texts = 15\n",
    "start_time = time.time()\n",
    "embedding.embed_documents([t.page_content for t in texts[:N_texts]])\n",
    "end_time = time.time()\n",
    "time_taken = end_time-start_time\n",
    "print(f'Took {time_taken} seconds to process {N_texts} of chunk_size {chunk_size} chars.')\n",
    "print(f'Therefore would take ca. {(time_taken * (len(texts) / N_texts) / 60)} minutes to finish all')"
   ]
  },
  {
   "cell_type": "code",
   "execution_count": null,
   "id": "5e6739f0-4859-4d66-8fe8-962dd466dc8e",
   "metadata": {},
   "outputs": [],
   "source": []
  }
 ],
 "metadata": {
  "kernelspec": {
   "display_name": "Python 3 (ipykernel)",
   "language": "python",
   "name": "python3"
  },
  "language_info": {
   "codemirror_mode": {
    "name": "ipython",
    "version": 3
   },
   "file_extension": ".py",
   "mimetype": "text/x-python",
   "name": "python",
   "nbconvert_exporter": "python",
   "pygments_lexer": "ipython3",
   "version": "3.11.5"
  }
 },
 "nbformat": 4,
 "nbformat_minor": 5
}
